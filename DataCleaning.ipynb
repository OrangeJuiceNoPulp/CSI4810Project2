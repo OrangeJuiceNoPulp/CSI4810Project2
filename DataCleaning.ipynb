{
 "cells": [
  {
   "cell_type": "code",
   "execution_count": 1,
   "id": "9453cd33-7e10-430f-be68-5a73d78463bc",
   "metadata": {},
   "outputs": [],
   "source": [
    "import pandas as pd\n",
    "import numpy as np"
   ]
  },
  {
   "cell_type": "code",
   "execution_count": 2,
   "id": "188eb97c-5535-419f-bfb7-f973f44642d9",
   "metadata": {},
   "outputs": [],
   "source": [
    "df = pd.read_csv(\"pokemon_text_no_index.csv\")"
   ]
  },
  {
   "cell_type": "code",
   "execution_count": 3,
   "id": "c6aaa33a-ae7d-4b4a-8f7c-d8bb67979fdb",
   "metadata": {},
   "outputs": [],
   "source": [
    "#Charizard\n",
    "df.loc[df['DexNumber'] == 6, 'Dragon'] = 0\n",
    "df.loc[55, 'Flying'] = 0\n",
    "df.loc[55, 'Dragon'] = 1"
   ]
  },
  {
   "cell_type": "code",
   "execution_count": 4,
   "id": "b340d7a4-dd47-4c62-ad1e-c76bed34e397",
   "metadata": {},
   "outputs": [],
   "source": [
    "#Rattata\n",
    "df.loc[df['DexNumber'] == 19, 'Dark'] = 0\n",
    "for i in range(217,222):\n",
    "    df.loc[i, 'Dark'] = 1"
   ]
  },
  {
   "cell_type": "code",
   "execution_count": 5,
   "id": "d1be900f-79f7-43f1-90d3-8c0740b4c254",
   "metadata": {},
   "outputs": [],
   "source": [
    "#Raticate\n",
    "df.loc[df['DexNumber'] == 20, 'Dark'] = 0\n",
    "for i in range(239,244):\n",
    "    df.loc[i, 'Dark'] = 1"
   ]
  },
  {
   "cell_type": "code",
   "execution_count": 6,
   "id": "0e2ecf74-34fd-4d1f-b253-3f997af45910",
   "metadata": {},
   "outputs": [],
   "source": [
    "#Raichu\n",
    "df.loc[df['DexNumber'] == 26, 'Psychic'] = 0\n",
    "for i in range(368,375):\n",
    "    df.loc[i, 'Psychic'] = 1"
   ]
  },
  {
   "cell_type": "code",
   "execution_count": 7,
   "id": "f1d55727-e097-49a7-9f02-548caba20eb3",
   "metadata": {},
   "outputs": [],
   "source": [
    "#Raichu\n",
    "df.loc[df['DexNumber'] == 26, 'Psychic'] = 0\n",
    "for i in range(368,375):\n",
    "    df.loc[i, 'Psychic'] = 1"
   ]
  },
  {
   "cell_type": "code",
   "execution_count": 8,
   "id": "af4edc6a-ddd4-45b3-b1cf-3929adcc6ca4",
   "metadata": {},
   "outputs": [],
   "source": [
    "#Sandshrew\n",
    "df.loc[df['DexNumber'] == 27, 'Ice'] = 0\n",
    "df.loc[df['DexNumber'] == 27, 'Steel'] = 0\n",
    "for i in range(395,402):\n",
    "    df.loc[i, 'Ground'] = 0\n",
    "    df.loc[i, 'Ice'] = 1\n",
    "    df.loc[i, 'Steel'] = 1"
   ]
  },
  {
   "cell_type": "code",
   "execution_count": 9,
   "id": "edc03817-a39c-4474-9bd3-1706ff81af13",
   "metadata": {},
   "outputs": [],
   "source": [
    "#Sandslash\n",
    "df.loc[df['DexNumber'] == 28, 'Ice'] = 0\n",
    "df.loc[df['DexNumber'] == 28, 'Steel'] = 0\n",
    "for i in range(420,427):\n",
    "    df.loc[i, 'Ground'] = 0\n",
    "    df.loc[i, 'Ice'] = 1\n",
    "    df.loc[i, 'Steel'] = 1"
   ]
  },
  {
   "cell_type": "code",
   "execution_count": 10,
   "id": "442b4441-5bdd-4b04-bcdc-66e42bc1c1df",
   "metadata": {},
   "outputs": [],
   "source": [
    "#Vulpix\n",
    "df.loc[df['DexNumber'] == 37, 'Ice'] = 0\n",
    "for i in range(562,570):\n",
    "    df.loc[i, 'Fire'] = 0\n",
    "    df.loc[i, 'Ice'] = 1"
   ]
  },
  {
   "cell_type": "code",
   "execution_count": 11,
   "id": "666d7d0c-fffb-4134-9622-823380a96a84",
   "metadata": {},
   "outputs": [],
   "source": [
    "#Ninetails\n",
    "df.loc[df['DexNumber'] == 38, 'Ice'] = 0\n",
    "df.loc[df['DexNumber'] == 38, 'Fairy'] = 0\n",
    "for i in range(588,596):\n",
    "    df.loc[i, 'Fire'] = 0\n",
    "    df.loc[i, 'Ice'] = 1\n",
    "    df.loc[i, 'Fairy'] = 1"
   ]
  },
  {
   "cell_type": "code",
   "execution_count": 12,
   "id": "40cc3608-9592-4064-b2b6-94623ec88e6b",
   "metadata": {},
   "outputs": [],
   "source": [
    "#Diglet\n",
    "df.loc[df['DexNumber'] == 50, 'Steel'] = 0\n",
    "for i in range(796,803):\n",
    "    df.loc[i, 'Steel'] = 1"
   ]
  },
  {
   "cell_type": "code",
   "execution_count": 13,
   "id": "ba35b29c-3a0b-49a8-81ee-f48be1862991",
   "metadata": {},
   "outputs": [],
   "source": [
    "#Dugtrio\n",
    "df.loc[df['DexNumber'] == 51, 'Steel'] = 0\n",
    "for i in range(820,827):\n",
    "    df.loc[i, 'Steel'] = 1"
   ]
  },
  {
   "cell_type": "code",
   "execution_count": 14,
   "id": "5843e176-e891-4109-923b-5dacca421835",
   "metadata": {},
   "outputs": [],
   "source": [
    "#Meowth\n",
    "df.loc[df['DexNumber'] == 52, 'Steel'] = 0\n",
    "df.loc[df['DexNumber'] == 52, 'Dark'] = 0\n",
    "for i in range(841,843):\n",
    "    df.loc[i, 'Steel'] = 1\n",
    "    df.loc[i, 'Normal'] = 0\n",
    "for i in range(843,850):\n",
    "    df.loc[i, 'Dark'] = 1\n",
    "    df.loc[i, 'Normal'] = 0"
   ]
  },
  {
   "cell_type": "code",
   "execution_count": 15,
   "id": "e5f32908-6eda-4a24-8f76-f9a0a7a4f187",
   "metadata": {},
   "outputs": [],
   "source": [
    "#Persian\n",
    "df.loc[df['DexNumber'] == 53, 'Dark'] = 0\n",
    "for i in range(871,878):\n",
    "    df.loc[i, 'Dark'] = 1\n",
    "    df.loc[i, 'Normal'] = 0"
   ]
  },
  {
   "cell_type": "code",
   "execution_count": 16,
   "id": "5d6f76d6-0c15-45b4-af4c-ae8a02b23deb",
   "metadata": {},
   "outputs": [],
   "source": [
    "#Growlithe\n",
    "df.loc[df['DexNumber'] == 58, 'Rock'] = 0\n",
    "df.loc[972, 'Rock'] = 1"
   ]
  },
  {
   "cell_type": "code",
   "execution_count": 17,
   "id": "36c9e216-8d1e-4c30-82b1-b64616cdfd99",
   "metadata": {},
   "outputs": [],
   "source": [
    "#Arcanine\n",
    "df.loc[df['DexNumber'] == 59, 'Rock'] = 0\n",
    "df.loc[990, 'Rock'] = 1"
   ]
  },
  {
   "cell_type": "code",
   "execution_count": 18,
   "id": "419ab83f-7ab3-444e-be82-f89bd5da6583",
   "metadata": {},
   "outputs": [],
   "source": [
    "#Geodude\n",
    "df.loc[df['DexNumber'] == 74, 'Electric'] = 0\n",
    "for i in range(1267,1272):\n",
    "    df.loc[i, 'Electric'] = 1\n",
    "    df.loc[i, 'Ground'] = 0"
   ]
  },
  {
   "cell_type": "code",
   "execution_count": 19,
   "id": "8cb9b803-bb95-4eec-9945-b7fcab8bb200",
   "metadata": {},
   "outputs": [],
   "source": [
    "#Graveler\n",
    "df.loc[df['DexNumber'] == 75, 'Electric'] = 0\n",
    "for i in range(1292,1297):\n",
    "    df.loc[i, 'Electric'] = 1\n",
    "    df.loc[i, 'Ground'] = 0"
   ]
  },
  {
   "cell_type": "code",
   "execution_count": 20,
   "id": "7928eb76-be27-4e74-af5d-4572b74c54fe",
   "metadata": {},
   "outputs": [],
   "source": [
    "#Golem\n",
    "df.loc[df['DexNumber'] == 76, 'Electric'] = 0\n",
    "for i in range(1315,1320):\n",
    "    df.loc[i, 'Electric'] = 1\n",
    "    df.loc[i, 'Ground'] = 0"
   ]
  },
  {
   "cell_type": "code",
   "execution_count": 21,
   "id": "be0dcdb9-625b-4cae-b190-fed0b240068f",
   "metadata": {},
   "outputs": [],
   "source": [
    "#Ponyta\n",
    "df.loc[df['DexNumber'] == 77, 'Psychic'] = 0\n",
    "for i in range(1340,1342):\n",
    "    df.loc[i, 'Psychic'] = 1\n",
    "    df.loc[i, 'Fire'] = 0"
   ]
  },
  {
   "cell_type": "code",
   "execution_count": 22,
   "id": "dfcbc3ea-fe07-4f48-b833-f926d59b1d51",
   "metadata": {},
   "outputs": [],
   "source": [
    "#Rapidash\n",
    "df.loc[df['DexNumber'] == 78, 'Psychic'] = 0\n",
    "df.loc[df['DexNumber'] == 78, 'Fairy'] = 0\n",
    "for i in range(1360,1362):\n",
    "    df.loc[i, 'Psychic'] = 1\n",
    "    df.loc[i, 'Fairy'] = 1\n",
    "    df.loc[i, 'Fire'] = 0"
   ]
  },
  {
   "cell_type": "code",
   "execution_count": 23,
   "id": "1976863e-975d-45f8-b4d6-4b64f6c6cd1f",
   "metadata": {},
   "outputs": [],
   "source": [
    "#Slowpoke\n",
    "for i in range(1377,1379):\n",
    "    df.loc[i, 'Water'] = 0"
   ]
  },
  {
   "cell_type": "code",
   "execution_count": 24,
   "id": "9ce3c6df-d609-42fe-b75b-192a65b1445e",
   "metadata": {},
   "outputs": [],
   "source": [
    "#Slowbro\n",
    "for i in range(1396,1398):\n",
    "    df.loc[i, 'Water'] = 0\n",
    "    df.loc[i, 'Poison'] = 1"
   ]
  },
  {
   "cell_type": "code",
   "execution_count": 25,
   "id": "d3ca7e8c-c7e3-4e2b-b5fb-b8c4c4563148",
   "metadata": {},
   "outputs": [],
   "source": [
    "#Farfetchd\n",
    "df.loc[df['DexNumber'] == 83, 'Fighting'] = 0\n",
    "for i in range(1467,1469):\n",
    "    df.loc[i, 'Fighting'] = 1\n",
    "    df.loc[i, 'Normal'] = 0\n",
    "    df.loc[i, 'Flying'] = 0"
   ]
  },
  {
   "cell_type": "code",
   "execution_count": 26,
   "id": "7b222ef4-d9de-4834-b595-3676bd78dbed",
   "metadata": {},
   "outputs": [],
   "source": [
    "#Grimer\n",
    "df.loc[df['DexNumber'] == 88, 'Dark'] = 0\n",
    "for i in range(1540,1545):\n",
    "    df.loc[i, 'Dark'] = 1"
   ]
  },
  {
   "cell_type": "code",
   "execution_count": 27,
   "id": "2e95f733-11dd-43bc-906a-df97edb02aa0",
   "metadata": {},
   "outputs": [],
   "source": [
    "#Muk\n",
    "df.loc[df['DexNumber'] == 89, 'Dark'] = 0\n",
    "for i in range(1564,1569):\n",
    "    df.loc[i, 'Dark'] = 1"
   ]
  },
  {
   "cell_type": "code",
   "execution_count": 28,
   "id": "c5487df7-2f24-4482-8a69-a67af545b29b",
   "metadata": {},
   "outputs": [],
   "source": [
    "#Voltorb\n",
    "df.loc[df['DexNumber'] == 100, 'Grass'] = 0\n",
    "df.loc[1748, 'Grass'] = 1"
   ]
  },
  {
   "cell_type": "code",
   "execution_count": 29,
   "id": "1d25047f-0bff-4215-b09a-640798e36c5c",
   "metadata": {},
   "outputs": [],
   "source": [
    "#Electrode\n",
    "df.loc[df['DexNumber'] == 101, 'Grass'] = 0\n",
    "df.loc[1763, 'Grass'] = 1"
   ]
  },
  {
   "cell_type": "code",
   "execution_count": 30,
   "id": "fbb67844-6dd5-4bc9-8aed-e8fc6c2132e7",
   "metadata": {},
   "outputs": [],
   "source": [
    "#Exeggutor\n",
    "df.loc[df['DexNumber'] == 103, 'Dragon'] = 0\n",
    "for i in range(1794,1801):\n",
    "    df.loc[i, 'Dragon'] = 1\n",
    "    df.loc[i, 'Psychic'] = 0"
   ]
  },
  {
   "cell_type": "code",
   "execution_count": 31,
   "id": "e5dff972-e078-415c-b493-35bb67197f7f",
   "metadata": {},
   "outputs": [],
   "source": [
    "#Marowack\n",
    "df.loc[df['DexNumber'] == 105, 'Fire'] = 0\n",
    "df.loc[df['DexNumber'] == 105, 'Ghost'] = 0\n",
    "for i in range(1835,1842):\n",
    "    df.loc[i, 'Fire'] = 1\n",
    "    df.loc[i, 'Ghost'] = 1\n",
    "    df.loc[i, 'Ground'] = 0"
   ]
  },
  {
   "cell_type": "code",
   "execution_count": 32,
   "id": "4b64382b-615a-4392-ad0e-85136595a2f2",
   "metadata": {},
   "outputs": [],
   "source": [
    "#Weezing\n",
    "df.loc[df['DexNumber'] == 110, 'Fairy'] = 0\n",
    "for i in range(1915,1917):\n",
    "    df.loc[i, 'Fairy'] = 1"
   ]
  },
  {
   "cell_type": "code",
   "execution_count": 33,
   "id": "38df7b4f-396b-447f-904c-79796e9f0a54",
   "metadata": {},
   "outputs": [],
   "source": [
    "#Mr Mime\n",
    "df.loc[df['DexNumber'] == 122, 'Ice'] = 0\n",
    "for i in range(2128,2130):\n",
    "    df.loc[i, 'Ice'] = 1\n",
    "    df.loc[i, 'Fairy'] = 0"
   ]
  },
  {
   "cell_type": "code",
   "execution_count": 34,
   "id": "a2a749a2-1eab-4575-8cdb-d206ebfdbf22",
   "metadata": {},
   "outputs": [],
   "source": [
    "#Pinsir\n",
    "df.loc[df['DexNumber'] == 127, 'Flying'] = 0\n",
    "for i in range(2220,2225):\n",
    "    df.loc[i, 'Flying'] = 1"
   ]
  },
  {
   "cell_type": "code",
   "execution_count": 35,
   "id": "f8755eab-3274-4cf6-a230-2a5aec7339fa",
   "metadata": {},
   "outputs": [],
   "source": [
    "#Tauros\n",
    "df.loc[df['DexNumber'] == 128, 'Fighting'] = 0\n",
    "df.loc[df['DexNumber'] == 128, 'Fire'] = 0\n",
    "df.loc[df['DexNumber'] == 128, 'Water'] = 0\n",
    "for i in range(2251,2253):\n",
    "    df.loc[i, 'Fighting'] = 1\n",
    "    df.loc[i, 'Normal'] = 0\n",
    "for i in range(2249,2251):\n",
    "    df.loc[i, 'Fighting'] = 1\n",
    "    df.loc[i, 'Fire'] = 1\n",
    "    df.loc[i, 'Normal'] = 0\n",
    "for i in range(2247,2249):\n",
    "    df.loc[i, 'Fighting'] = 1\n",
    "    df.loc[i, 'Water'] = 1\n",
    "    df.loc[i, 'Normal'] = 0"
   ]
  },
  {
   "cell_type": "code",
   "execution_count": 36,
   "id": "c116c413-62aa-45c9-8d29-8a8fc48b0610",
   "metadata": {},
   "outputs": [],
   "source": [
    "#Gyarados\n",
    "df.loc[df['DexNumber'] == 130, 'Dark'] = 0\n",
    "for i in range(2288,2293):\n",
    "    df.loc[i, 'Dark'] = 1\n",
    "    df.loc[i, 'Flying'] = 0"
   ]
  },
  {
   "cell_type": "code",
   "execution_count": 37,
   "id": "73484845-ff2c-4e75-8a5e-5d227696add8",
   "metadata": {},
   "outputs": [],
   "source": [
    "#Articuno\n",
    "df.loc[df['DexNumber'] == 144, 'Psychic'] = 0\n",
    "for i in range(2553,2555):\n",
    "    df.loc[i, 'Psychic'] = 1\n",
    "    df.loc[i, 'Ice'] = 0"
   ]
  },
  {
   "cell_type": "code",
   "execution_count": 38,
   "id": "84009428-adb2-459c-b2fa-624072c2193e",
   "metadata": {},
   "outputs": [],
   "source": [
    "#Zapdos\n",
    "df.loc[df['DexNumber'] == 145, 'Fighting'] = 0\n",
    "for i in range(2566,2568):\n",
    "    df.loc[i, 'Fighting'] = 1\n",
    "    df.loc[i, 'Electric'] = 0"
   ]
  },
  {
   "cell_type": "code",
   "execution_count": 39,
   "id": "c7a44aee-52df-439c-a56d-dbf15ce6d1fe",
   "metadata": {},
   "outputs": [],
   "source": [
    "#Moltres\n",
    "df.loc[df['DexNumber'] == 146, 'Dark'] = 0\n",
    "for i in range(2580,2582):\n",
    "    df.loc[i, 'Dark'] = 1\n",
    "    df.loc[i, 'Fire'] = 0"
   ]
  },
  {
   "cell_type": "code",
   "execution_count": 40,
   "id": "586a6b40-8c9c-44e8-98b0-89b647290308",
   "metadata": {},
   "outputs": [],
   "source": [
    "#Mewtwo\n",
    "df.loc[df['DexNumber'] == 150, 'Fighting'] = 0\n",
    "df.loc[2649, 'Fighting'] = 1"
   ]
  },
  {
   "cell_type": "code",
   "execution_count": 41,
   "id": "eda6663b-5dc8-4eb1-9660-fc8cae370045",
   "metadata": {},
   "outputs": [],
   "source": [
    "#Typhlosion\n",
    "df.loc[df['DexNumber'] == 157, 'Ghost'] = 0\n",
    "df.loc[2712, 'Ghost'] = 1"
   ]
  },
  {
   "cell_type": "code",
   "execution_count": 42,
   "id": "994f0c5a-2cb4-4437-b2ae-1390902be5d3",
   "metadata": {},
   "outputs": [],
   "source": [
    "#Ampharos\n",
    "df.loc[df['DexNumber'] == 181, 'Dragon'] = 0\n",
    "for i in range(2969,2971):\n",
    "    df.loc[i, 'Dragon'] = 1"
   ]
  },
  {
   "cell_type": "code",
   "execution_count": 43,
   "id": "38f1f745-fa21-4066-80ce-3af9f349bb24",
   "metadata": {},
   "outputs": [],
   "source": [
    "#Wooper\n",
    "df.loc[df['DexNumber'] == 194, 'Poison'] = 0\n",
    "for i in range(3113,3115):\n",
    "    df.loc[i, 'Poison'] = 1\n",
    "    df.loc[i, 'Water'] = 0"
   ]
  },
  {
   "cell_type": "code",
   "execution_count": 44,
   "id": "7ebb1163-5fa7-41a6-ba1a-90fdee77ad95",
   "metadata": {},
   "outputs": [],
   "source": [
    "#Slowking\n",
    "df.loc[df['DexNumber'] == 199, 'Poison'] = 0\n",
    "for i in range(3176,3178):\n",
    "    df.loc[i, 'Poison'] = 1\n",
    "    df.loc[i, 'Water'] = 0"
   ]
  },
  {
   "cell_type": "code",
   "execution_count": 45,
   "id": "062c1ba7-c3e7-4046-8957-05a63bd53972",
   "metadata": {},
   "outputs": [],
   "source": [
    "#Qwilfish\n",
    "df.loc[df['DexNumber'] == 211, 'Dark'] = 0\n",
    "df.loc[3319, 'Dark'] = 1\n",
    "df.loc[3319, 'Water'] = 0"
   ]
  },
  {
   "cell_type": "code",
   "execution_count": 46,
   "id": "0d9aa3d3-d5ff-4d83-8618-cc8d33932244",
   "metadata": {},
   "outputs": [],
   "source": [
    "#Sneasel\n",
    "df.loc[df['DexNumber'] == 215, 'Fighting'] = 0\n",
    "df.loc[df['DexNumber'] == 215, 'Poison'] = 0\n",
    "df.loc[3381, 'Fighting'] = 1\n",
    "df.loc[3381, 'Poison'] = 1\n",
    "df.loc[3381, 'Dark'] = 0\n",
    "df.loc[3381, 'Ice'] = 0"
   ]
  },
  {
   "cell_type": "code",
   "execution_count": 47,
   "id": "097f316f-6348-4180-8e0f-ebfd40e64a1e",
   "metadata": {},
   "outputs": [],
   "source": [
    "#Corsola\n",
    "df.loc[df['DexNumber'] == 222, 'Ghost'] = 0\n",
    "for i in range(3456,3458):\n",
    "    df.loc[i, 'Ghost'] = 1\n",
    "    df.loc[i, 'Water'] = 0\n",
    "    df.loc[i, 'Rock'] = 0"
   ]
  },
  {
   "cell_type": "code",
   "execution_count": 48,
   "id": "197c1fca-0bdb-4768-b7a0-1b561cf0cf42",
   "metadata": {},
   "outputs": [],
   "source": [
    "#Sceptile\n",
    "df.loc[df['DexNumber'] == 254, 'Dragon'] = 0"
   ]
  },
  {
   "cell_type": "code",
   "execution_count": 49,
   "id": "dc75de80-2377-40f3-a649-dab06b40190e",
   "metadata": {},
   "outputs": [],
   "source": [
    "#Zigzagoon\n",
    "df.loc[df['DexNumber'] == 263, 'Dark'] = 0\n",
    "for i in range(3890,3892):\n",
    "    df.loc[i, 'Dark'] = 1"
   ]
  },
  {
   "cell_type": "code",
   "execution_count": 50,
   "id": "0d582708-3f3e-4cef-97d0-c1d42dd7a520",
   "metadata": {},
   "outputs": [],
   "source": [
    "#Linoone\n",
    "df.loc[df['DexNumber'] == 264, 'Dark'] = 0\n",
    "for i in range(3903,3905):\n",
    "    df.loc[i, 'Dark'] = 1"
   ]
  },
  {
   "cell_type": "code",
   "execution_count": 51,
   "id": "adbda0a2-75b8-40fc-92cd-461297be8c36",
   "metadata": {},
   "outputs": [],
   "source": [
    "#Altaria\n",
    "df.loc[df['DexNumber'] == 334, 'Fairy'] = 0"
   ]
  },
  {
   "cell_type": "code",
   "execution_count": 52,
   "id": "b07eae36-0805-454a-bec5-52e47843a829",
   "metadata": {},
   "outputs": [],
   "source": [
    "#Castform\n",
    "df.loc[df['DexNumber'] == 351, 'Fire'] = 0\n",
    "df.loc[df['DexNumber'] == 351, 'Water'] = 0\n",
    "df.loc[df['DexNumber'] == 351, 'Ice'] = 0\n",
    "for i in range(4741,4745):\n",
    "    df.loc[i, 'Fire'] = 1\n",
    "    df.loc[i, 'Normal'] = 1\n",
    "for i in range(4737,4741):\n",
    "    df.loc[i, 'Water'] = 1\n",
    "    df.loc[i, 'Normal'] = 1\n",
    "for i in range(4733,4737):\n",
    "    df.loc[i, 'Ice'] = 1\n",
    "    df.loc[i, 'Normal'] = 1"
   ]
  },
  {
   "cell_type": "code",
   "execution_count": 53,
   "id": "a5af576c-c96a-4963-abfc-b743a0456b5b",
   "metadata": {},
   "outputs": [],
   "source": [
    "#Groudon\n",
    "df.loc[df['DexNumber'] == 383, 'Fire'] = 0"
   ]
  },
  {
   "cell_type": "code",
   "execution_count": 54,
   "id": "fb0f90fb-76cd-420f-a927-176931be78e6",
   "metadata": {},
   "outputs": [],
   "source": [
    "#Wormadam\n",
    "df.loc[df['DexNumber'] == 413, 'Ground'] = 0\n",
    "df.loc[df['DexNumber'] == 413, 'Steel'] = 0\n",
    "df.loc[5323, 'Ground'] = 1\n",
    "df.loc[5323, 'Grass'] = 0\n",
    "df.loc[5322, 'Steel'] = 1\n",
    "df.loc[5322, 'Grass'] = 0"
   ]
  },
  {
   "cell_type": "code",
   "execution_count": 55,
   "id": "9c06673a-d7a7-49eb-aa32-9aad437ecc4a",
   "metadata": {},
   "outputs": [],
   "source": [
    "#Lopunny\n",
    "df.loc[df['DexNumber'] == 428, 'Fighting'] = 0\n",
    "for i in range(5491,5493):\n",
    "    df.loc[i, 'Fighting'] = 1"
   ]
  },
  {
   "cell_type": "code",
   "execution_count": 56,
   "id": "6e3dee07-ff3a-42f5-9220-7897db03a9ba",
   "metadata": {},
   "outputs": [],
   "source": [
    "#Rotom\n",
    "df.loc[df['DexNumber'] == 479, 'Fire'] = 0\n",
    "df.loc[df['DexNumber'] == 479, 'Water'] = 0\n",
    "df.loc[df['DexNumber'] == 479, 'Ice'] = 0\n",
    "df.loc[df['DexNumber'] == 479, 'Flying'] = 0\n",
    "df.loc[df['DexNumber'] == 479, 'Grass'] = 0\n",
    "for i in range(6010,6015):\n",
    "    df.loc[i, 'Fire'] = 1\n",
    "    df.loc[i, 'Ghost'] = 0\n",
    "for i in range(6005,6010):\n",
    "    df.loc[i, 'Water'] = 1\n",
    "    df.loc[i, 'Ghost'] = 0\n",
    "for i in range(6000,6005):\n",
    "    df.loc[i, 'Ice'] = 1\n",
    "    df.loc[i, 'Ghost'] = 0\n",
    "for i in range(5995,6000):\n",
    "    df.loc[i, 'Flying'] = 1\n",
    "    df.loc[i, 'Ghost'] = 0\n",
    "for i in range(5990,5995):\n",
    "    df.loc[i, 'Grass'] = 1\n",
    "    df.loc[i, 'Ghost'] = 0"
   ]
  },
  {
   "cell_type": "code",
   "execution_count": 57,
   "id": "89138a32-dabd-4069-aac3-cdbc0075b895",
   "metadata": {},
   "outputs": [],
   "source": [
    "#Shaymin\n",
    "df.loc[df['DexNumber'] == 492, 'Flying'] = 0\n",
    "df.loc[6092, 'Flying'] = 1"
   ]
  },
  {
   "cell_type": "code",
   "execution_count": 58,
   "id": "3f4c2c7d-f765-48e7-a75a-ee73f71e7148",
   "metadata": {},
   "outputs": [],
   "source": [
    "#Samurott\n",
    "df.loc[df['DexNumber'] == 503, 'Dark'] = 0\n",
    "df.loc[6136, 'Dark'] = 1"
   ]
  },
  {
   "cell_type": "code",
   "execution_count": 59,
   "id": "162b92c9-5897-4a7d-a307-3c12d9c1d7af",
   "metadata": {},
   "outputs": [],
   "source": [
    "#Audino\n",
    "df.loc[df['DexNumber'] == 531, 'Fairy'] = 0"
   ]
  },
  {
   "cell_type": "code",
   "execution_count": 60,
   "id": "c42dc965-de92-4c19-88ac-d691daab07c9",
   "metadata": {},
   "outputs": [],
   "source": [
    "#Lilligant\n",
    "df.loc[df['DexNumber'] == 549, 'Fighting'] = 0\n",
    "df.loc[6379, 'Fighting'] = 1"
   ]
  },
  {
   "cell_type": "code",
   "execution_count": 61,
   "id": "2db39b2b-6511-412a-bf21-268c87441ddc",
   "metadata": {},
   "outputs": [],
   "source": [
    "#Darumaka\n",
    "df.loc[df['DexNumber'] == 554, 'Ice'] = 0\n",
    "for i in range(6432,6434):\n",
    "    df.loc[i, 'Ice'] = 1\n",
    "    df.loc[i, 'Fire'] = 0"
   ]
  },
  {
   "cell_type": "code",
   "execution_count": 62,
   "id": "e25f54b4-6893-400e-8658-69a8197f104e",
   "metadata": {},
   "outputs": [],
   "source": [
    "#Darmanitan\n",
    "df.loc[df['DexNumber'] == 555, 'Ice'] = 0\n",
    "df.loc[df['DexNumber'] == 555, 'Psychic'] = 0\n",
    "for i in range(6444,6446):\n",
    "    df.loc[i, 'Psychic'] = 1\n",
    "for i in range(6442,6444):\n",
    "    df.loc[i, 'Ice'] = 1\n",
    "    df.loc[i, 'Fire'] = 0\n",
    "for i in range(6440,6442):\n",
    "    df.loc[i, 'Ice'] = 1"
   ]
  },
  {
   "cell_type": "code",
   "execution_count": 63,
   "id": "2f7ebdb5-f611-4586-9b1c-cc9f8ce0cfd1",
   "metadata": {},
   "outputs": [],
   "source": [
    "#Yamask\n",
    "df.loc[df['DexNumber'] == 562, 'Ground'] = 0\n",
    "for i in range(6486,6488):\n",
    "    df.loc[i, 'Ground'] = 1"
   ]
  },
  {
   "cell_type": "code",
   "execution_count": 64,
   "id": "40f6d68e-b1c0-49df-9804-384ff30997d9",
   "metadata": {},
   "outputs": [],
   "source": [
    "#Zorua\n",
    "df.loc[df['DexNumber'] == 570, 'Normal'] = 0\n",
    "df.loc[df['DexNumber'] == 570, 'Ghost'] = 0\n",
    "df.loc[6554, 'Normal'] = 1\n",
    "df.loc[6554, 'Ghost'] = 1\n",
    "df.loc[6554, 'Dark'] = 0"
   ]
  },
  {
   "cell_type": "code",
   "execution_count": 65,
   "id": "ac091464-01e7-4cde-87ac-24ca40b7634a",
   "metadata": {},
   "outputs": [],
   "source": [
    "#Zoroark\n",
    "df.loc[df['DexNumber'] == 571, 'Normal'] = 0\n",
    "df.loc[df['DexNumber'] == 571, 'Ghost'] = 0\n",
    "df.loc[6562, 'Normal'] = 1\n",
    "df.loc[6562, 'Ghost'] = 1\n",
    "df.loc[6562, 'Dark'] = 0"
   ]
  },
  {
   "cell_type": "code",
   "execution_count": 66,
   "id": "928f3f2d-1c41-4acd-981c-145c53903991",
   "metadata": {},
   "outputs": [],
   "source": [
    "#Stunfisk\n",
    "df.loc[df['DexNumber'] == 618, 'Steel'] = 0\n",
    "for i in range(6860,6862):\n",
    "    df.loc[i, 'Steel'] = 1\n",
    "    df.loc[i, 'Electric'] = 0"
   ]
  },
  {
   "cell_type": "code",
   "execution_count": 67,
   "id": "9fef7f1f-f579-4b30-b150-cbe7541520cb",
   "metadata": {},
   "outputs": [],
   "source": [
    "#Braviary\n",
    "df.loc[df['DexNumber'] == 628, 'Psychic'] = 0\n",
    "df.loc[6935, 'Psychic'] = 1\n",
    "df.loc[6935, 'Normal'] = 0"
   ]
  },
  {
   "cell_type": "code",
   "execution_count": 68,
   "id": "69043485-81d6-48e0-9d04-849d8f6a53d9",
   "metadata": {},
   "outputs": [],
   "source": [
    "#Meloetta\n",
    "df.loc[df['DexNumber'] == 648, 'Fighting'] = 0"
   ]
  },
  {
   "cell_type": "code",
   "execution_count": 69,
   "id": "8a4bed6d-5d46-4749-8987-4b08d081dc26",
   "metadata": {},
   "outputs": [],
   "source": [
    "#Sliggoo\n",
    "df.loc[df['DexNumber'] == 705, 'Steel'] = 0\n",
    "df.loc[7435, 'Steel'] = 1"
   ]
  },
  {
   "cell_type": "code",
   "execution_count": 70,
   "id": "6f87b6f9-d4d3-413e-b751-a7d791390dff",
   "metadata": {},
   "outputs": [],
   "source": [
    "#Goodra\n",
    "df.loc[df['DexNumber'] == 706, 'Steel'] = 0\n",
    "df.loc[7446, 'Steel'] = 1"
   ]
  },
  {
   "cell_type": "code",
   "execution_count": 71,
   "id": "2165a07b-1e65-4f35-ada8-0d1aa1becb85",
   "metadata": {},
   "outputs": [],
   "source": [
    "#Avalugg\n",
    "df.loc[df['DexNumber'] == 713, 'Rock'] = 0\n",
    "df.loc[7510, 'Rock'] = 1"
   ]
  },
  {
   "cell_type": "code",
   "execution_count": 72,
   "id": "bf9207bc-8c2b-4026-bcbb-9a6ce28cf874",
   "metadata": {},
   "outputs": [],
   "source": [
    "#Hoopa\n",
    "df.loc[df['DexNumber'] == 720, 'Dark'] = 0"
   ]
  },
  {
   "cell_type": "code",
   "execution_count": 73,
   "id": "afcbc4d0-4eaa-457b-b4ca-2eb93fb3c1b2",
   "metadata": {},
   "outputs": [],
   "source": [
    "#Decidueye\n",
    "df.loc[df['DexNumber'] == 724, 'Fighting'] = 0\n",
    "df.loc[7573, 'Fighting'] = 1"
   ]
  },
  {
   "cell_type": "code",
   "execution_count": 74,
   "id": "175e9916-2456-4911-bc37-f6302e0f3454",
   "metadata": {},
   "outputs": [],
   "source": [
    "#Oricorio\n",
    "df.loc[df['DexNumber'] == 741, 'Fire'] = 0\n",
    "df.loc[df['DexNumber'] == 741, 'Electric'] = 0\n",
    "df.loc[df['DexNumber'] == 741, 'Psychic'] = 0\n",
    "df.loc[df['DexNumber'] == 741, 'Ghost'] = 0\n",
    "for i in range(7688,7694):\n",
    "    df.loc[i, 'Fire'] = 1\n",
    "for i in range(7686,7688):\n",
    "    df.loc[i, 'Psychic'] = 1\n",
    "for i in range(7680,7686):\n",
    "    df.loc[i, 'Electric'] = 1\n",
    "for i in range(7676,7680):\n",
    "    df.loc[i, 'Psychic'] = 1\n",
    "for i in range(7670,7676):\n",
    "    df.loc[i, 'Ghost'] = 1"
   ]
  },
  {
   "cell_type": "code",
   "execution_count": 75,
   "id": "bb4b8435-c89f-4ee9-a7fb-8dd966d707b3",
   "metadata": {},
   "outputs": [],
   "source": [
    "#Necrozma\n",
    "df.loc[df['DexNumber'] == 800, 'Steel'] = 0\n",
    "df.loc[df['DexNumber'] == 800, 'Ghost'] = 0\n",
    "df.loc[df['DexNumber'] == 800, 'Dragon'] = 0\n",
    "for i in range(8098,8102):\n",
    "    df.loc[i, 'Steel'] = 1\n",
    "for i in range(8094,8098):\n",
    "    df.loc[i, 'Ghost'] = 1\n",
    "for i in range(8092,8094):\n",
    "    df.loc[i, 'Dragon'] = 1"
   ]
  },
  {
   "cell_type": "code",
   "execution_count": 76,
   "id": "93ea40f7-c261-4539-aa76-5e26c0206078",
   "metadata": {},
   "outputs": [],
   "source": [
    "#Zacian\n",
    "df.loc[df['DexNumber'] == 888, 'Steel'] = 0\n",
    "for i in range(8452,8454):\n",
    "    df.loc[i, 'Steel'] = 1"
   ]
  },
  {
   "cell_type": "code",
   "execution_count": 77,
   "id": "034481d6-67c3-436d-9e51-fdd114c4bdcd",
   "metadata": {},
   "outputs": [],
   "source": [
    "#Zamazenta\n",
    "df.loc[df['DexNumber'] == 888, 'Steel'] = 0\n",
    "for i in range(8456,8458):\n",
    "    df.loc[i, 'Steel'] = 1"
   ]
  },
  {
   "cell_type": "code",
   "execution_count": 78,
   "id": "bde7db80-b3c0-4f19-9cce-10b9cdf0438b",
   "metadata": {},
   "outputs": [],
   "source": [
    "#Urshifu\n",
    "df.loc[df['DexNumber'] == 892, 'Dark'] = 0\n",
    "df.loc[df['DexNumber'] == 892, 'Water'] = 0\n",
    "for i in range(8470,8474):\n",
    "    df.loc[i, 'Dark'] = 1\n",
    "for i in range(8466,8470):\n",
    "    df.loc[i, 'Water'] = 1"
   ]
  },
  {
   "cell_type": "code",
   "execution_count": 79,
   "id": "e9c9ab20-6672-4c7b-8a4b-df6d4dea13a8",
   "metadata": {},
   "outputs": [],
   "source": [
    "#Calyrex\n",
    "df.loc[df['DexNumber'] == 898, 'Ice'] = 0\n",
    "df.loc[df['DexNumber'] == 898, 'Ghost'] = 0\n",
    "for i in range(8488,8490):\n",
    "    df.loc[i, 'Ice'] = 1\n",
    "    df.loc[i, 'Grass'] = 0\n",
    "for i in range(8486,8488):\n",
    "    df.loc[i, 'Ghost'] = 1\n",
    "    df.loc[i, 'Grass'] = 0"
   ]
  },
  {
   "cell_type": "code",
   "execution_count": 80,
   "id": "d2d9c241-f084-4cfc-a6d7-460eaf7623ec",
   "metadata": {},
   "outputs": [],
   "source": [
    "#Drop Unhelpful Duplicate Ultrabeast Entries (6 Rows)\n",
    "df = df[df['FlavorText'] != \"Although it’s alien to this world and a danger here, it’s apparently a common organism in the world where it normally lives.\"]"
   ]
  },
  {
   "cell_type": "code",
   "execution_count": 81,
   "id": "2b9edbdc-e974-4efa-933f-0177bfdd5709",
   "metadata": {},
   "outputs": [],
   "source": [
    "df.to_csv('pokemon_text_cleaned.csv', index=False)"
   ]
  },
  {
   "cell_type": "code",
   "execution_count": null,
   "id": "7ca668a3-1e1c-482c-b67f-f4b7e5f58225",
   "metadata": {},
   "outputs": [],
   "source": []
  }
 ],
 "metadata": {
  "kernelspec": {
   "display_name": "Python 3 (ipykernel)",
   "language": "python",
   "name": "python3"
  },
  "language_info": {
   "codemirror_mode": {
    "name": "ipython",
    "version": 3
   },
   "file_extension": ".py",
   "mimetype": "text/x-python",
   "name": "python",
   "nbconvert_exporter": "python",
   "pygments_lexer": "ipython3",
   "version": "3.10.6"
  }
 },
 "nbformat": 4,
 "nbformat_minor": 5
}
