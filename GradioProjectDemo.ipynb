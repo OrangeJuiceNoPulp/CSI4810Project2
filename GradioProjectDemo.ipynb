{
 "cells": [
  {
   "cell_type": "code",
   "execution_count": 1,
   "id": "01b58125-39cd-42e7-946d-11d54a1d7060",
   "metadata": {},
   "outputs": [],
   "source": [
    "import gradio as gr\n",
    "\n",
    "import numpy as np\n",
    "import pandas as pd\n",
    "\n",
    "from sklearn.linear_model import LogisticRegression\n",
    "from sentence_transformers import SentenceTransformer\n",
    "from sklearn.naive_bayes import GaussianNB\n",
    "from sklearn.neural_network import MLPClassifier"
   ]
  },
  {
   "cell_type": "code",
   "execution_count": 2,
   "id": "15fd7e69-83f1-4676-bc9f-2c984250ca1e",
   "metadata": {},
   "outputs": [],
   "source": [
    "def predict_type_NN(flav_text, type_1, type_2, type_3):\n",
    "    df = pd.read_csv(\"pokemon_text_cleaned.csv\")\n",
    "    subset = pd.DataFrame({'DexNumber':df['DexNumber'], 'Name':df['Name'], 'FlavorText':df['FlavorText']})\n",
    "\n",
    "    RAND_STATE = 13\n",
    "    MAX_ITERATIONS = 700\n",
    "\n",
    "    if (type_1 == type_2) | (type_1 == type_3) | (type_2 == type_3):\n",
    "        return {predicted_type: \"Error: Input types must be different!\", predicted_confidence: str(-1)}\n",
    "\n",
    "    classes = [type_1, type_2, type_3]\n",
    "\n",
    "    for i in classes:\n",
    "        subset[i] = df[i]\n",
    "\n",
    "    test_array = np.zeros_like(np.asarray(subset[classes[0]]))\n",
    "    for i,name in enumerate(classes):\n",
    "        test_array = test_array + np.asarray(subset[name])\n",
    "    subset = subset[pd.Series(test_array) == 1]\n",
    "\n",
    "    target_array = np.zeros_like(np.asarray(subset[classes[0]]))\n",
    "    for i,name in enumerate(classes):\n",
    "        target_array = target_array + (i)*np.asarray(subset[name])\n",
    "    \n",
    "    features = np.asarray(subset['FlavorText'])\n",
    "    model = SentenceTransformer(\"all-MiniLM-L6-v2\")\n",
    "    embeddings = model.encode(features)\n",
    "    \n",
    "    classifier = MLPClassifier(random_state=RAND_STATE, hidden_layer_sizes=[600], max_iter=MAX_ITERATIONS).fit(embeddings, target_array)\n",
    "\n",
    "    input_sample = model.encode(flav_text).reshape(1,-1)\n",
    "\n",
    "    type_prediction = classifier.predict(input_sample)[0]\n",
    "\n",
    "    probs = classifier.predict_proba(input_sample)[0]\n",
    "    #print(classes[type_prediction])\n",
    "    #print(probs[type_prediction])\n",
    "    \n",
    "    return {predicted_type: classes[type_prediction], predicted_confidence: str(probs[type_prediction])}"
   ]
  },
  {
   "cell_type": "code",
   "execution_count": 3,
   "id": "ca0b5267-9079-408a-a8fc-52b5338b7802",
   "metadata": {},
   "outputs": [],
   "source": [
    "def predict_type_NB(flav_text, type_1, type_2, type_3):\n",
    "    df = pd.read_csv(\"pokemon_text_cleaned.csv\")\n",
    "    subset = pd.DataFrame({'DexNumber':df['DexNumber'], 'Name':df['Name'], 'FlavorText':df['FlavorText']})\n",
    "\n",
    "    if (type_1 == type_2) | (type_1 == type_3) | (type_2 == type_3):\n",
    "        return {predicted_type: \"Error: Input types must be different!\", predicted_confidence: str(-1)}\n",
    "\n",
    "    classes = [type_1, type_2, type_3]\n",
    "\n",
    "    for i in classes:\n",
    "        subset[i] = df[i]\n",
    "\n",
    "    test_array = np.zeros_like(np.asarray(subset[classes[0]]))\n",
    "    for i,name in enumerate(classes):\n",
    "        test_array = test_array + np.asarray(subset[name])\n",
    "    subset = subset[pd.Series(test_array) == 1]\n",
    "\n",
    "    target_array = np.zeros_like(np.asarray(subset[classes[0]]))\n",
    "    for i,name in enumerate(classes):\n",
    "        target_array = target_array + (i)*np.asarray(subset[name])\n",
    "    \n",
    "    features = np.asarray(subset['FlavorText'])\n",
    "    model = SentenceTransformer(\"all-MiniLM-L6-v2\")\n",
    "    embeddings = model.encode(features)\n",
    "    \n",
    "    classifier = GaussianNB().fit(embeddings, target_array)\n",
    "\n",
    "    input_sample = model.encode(flav_text).reshape(1,-1)\n",
    "\n",
    "    type_prediction = classifier.predict(input_sample)[0]\n",
    "\n",
    "    probs = classifier.predict_proba(input_sample)[0]\n",
    "    #print(classes[type_prediction])\n",
    "    #print(probs[type_prediction])\n",
    "    \n",
    "    return {predicted_type: classes[type_prediction], predicted_confidence: str(probs[type_prediction])}"
   ]
  },
  {
   "cell_type": "code",
   "execution_count": 4,
   "id": "42f4f787-3415-4757-b512-1c37b9207d10",
   "metadata": {},
   "outputs": [],
   "source": [
    "def predict_type_LogReg(flav_text, type_1, type_2, type_3):\n",
    "    df = pd.read_csv(\"pokemon_text_cleaned.csv\")\n",
    "    subset = pd.DataFrame({'DexNumber':df['DexNumber'], 'Name':df['Name'], 'FlavorText':df['FlavorText']})\n",
    "\n",
    "    RAND_STATE = 13\n",
    "    MAX_ITERATIONS = 700\n",
    "    C_VAL = 8\n",
    "\n",
    "    if (type_1 == type_2) | (type_1 == type_3) | (type_2 == type_3):\n",
    "        return {predicted_type: \"Error: Input types must be different!\", predicted_confidence: str(-1)}\n",
    "\n",
    "    classes = [type_1, type_2, type_3]\n",
    "\n",
    "    for i in classes:\n",
    "        subset[i] = df[i]\n",
    "\n",
    "    test_array = np.zeros_like(np.asarray(subset[classes[0]]))\n",
    "    for i,name in enumerate(classes):\n",
    "        test_array = test_array + np.asarray(subset[name])\n",
    "    subset = subset[pd.Series(test_array) == 1]\n",
    "\n",
    "    target_array = np.zeros_like(np.asarray(subset[classes[0]]))\n",
    "    for i,name in enumerate(classes):\n",
    "        target_array = target_array + (i)*np.asarray(subset[name])\n",
    "    \n",
    "    features = np.asarray(subset['FlavorText'])\n",
    "    model = SentenceTransformer(\"all-MiniLM-L6-v2\")\n",
    "    embeddings = model.encode(features)\n",
    "    \n",
    "    classifier = LogisticRegression(max_iter=MAX_ITERATIONS, random_state=RAND_STATE, solver='sag', C=C_VAL, class_weight='balanced').fit(embeddings, target_array)\n",
    "\n",
    "    input_sample = model.encode(flav_text).reshape(1,-1)\n",
    "\n",
    "    type_prediction = classifier.predict(input_sample)[0]\n",
    "\n",
    "    probs = classifier.predict_proba(input_sample)[0]\n",
    "    #print(classes[type_prediction])\n",
    "    #print(probs[type_prediction])\n",
    "    \n",
    "    return {predicted_type: classes[type_prediction], predicted_confidence: str(probs[type_prediction])}"
   ]
  },
  {
   "cell_type": "code",
   "execution_count": 5,
   "id": "fd4f58f2-1e5e-4ea3-add8-eff1a0d3f17f",
   "metadata": {},
   "outputs": [
    {
     "name": "stdout",
     "output_type": "stream",
     "text": [
      "* Running on local URL:  http://127.0.0.1:7860\n",
      "\n",
      "To create a public link, set `share=True` in `launch()`.\n"
     ]
    },
    {
     "data": {
      "text/html": [
       "<div><iframe src=\"http://127.0.0.1:7860/\" width=\"100%\" height=\"500\" allow=\"autoplay; camera; microphone; clipboard-read; clipboard-write;\" frameborder=\"0\" allowfullscreen></iframe></div>"
      ],
      "text/plain": [
       "<IPython.core.display.HTML object>"
      ]
     },
     "metadata": {},
     "output_type": "display_data"
    },
    {
     "data": {
      "text/plain": []
     },
     "execution_count": 5,
     "metadata": {},
     "output_type": "execute_result"
    }
   ],
   "source": [
    "with gr.Blocks() as demo:\n",
    "    with gr.Column() as predictor:\n",
    "        flav_text = gr.Text(label=\"Description\")\n",
    "        type_1 = gr.Dropdown(['Normal', 'Fire', 'Water', 'Grass', 'Electric', 'Psychic', 'Ice', 'Dragon', 'Dark', 'Fairy', 'Fighting', 'Flying', 'Poison', 'Ground', 'Rock', 'Bug', 'Ghost', 'Steel'], label=\"Type 1\")\n",
    "        type_2 = gr.Dropdown(['Normal', 'Fire', 'Water', 'Grass', 'Electric', 'Psychic', 'Ice', 'Dragon', 'Dark', 'Fairy', 'Fighting', 'Flying', 'Poison', 'Ground', 'Rock', 'Bug', 'Ghost', 'Steel'], label=\"Type 2\")\n",
    "        type_3 = gr.Dropdown(['Normal', 'Fire', 'Water', 'Grass', 'Electric', 'Psychic', 'Ice', 'Dragon', 'Dark', 'Fairy', 'Fighting', 'Flying', 'Poison', 'Ground', 'Rock', 'Bug', 'Ghost', 'Steel'], label=\"Type 3\")\n",
    "        with gr.Row() as predictors:\n",
    "            predict_button_NN = gr.Button(\"Predict With Neural Network\")\n",
    "            predict_button_NB = gr.Button(\"Predict With Naive Bayes\")\n",
    "            predict_button_LogReg = gr.Button(\"Predict With Logistic Regression\")\n",
    "            \n",
    "        predicted_type = gr.Text(label=\"Predicted Type\")\n",
    "        predicted_confidence = gr.Text(label=\"Prediction Confidence\")\n",
    "\n",
    "        predict_button_NN.click(fn=predict_type_NN, inputs=[flav_text,type_1,type_2,type_3], outputs=[predicted_type,predicted_confidence])\n",
    "        predict_button_NB.click(fn=predict_type_NB, inputs=[flav_text,type_1,type_2,type_3], outputs=[predicted_type,predicted_confidence])\n",
    "        predict_button_LogReg.click(fn=predict_type_LogReg, inputs=[flav_text,type_1,type_2,type_3], outputs=[predicted_type,predicted_confidence])\n",
    "\n",
    "demo.launch()"
   ]
  }
 ],
 "metadata": {
  "kernelspec": {
   "display_name": "Python 3 (ipykernel)",
   "language": "python",
   "name": "python3"
  },
  "language_info": {
   "codemirror_mode": {
    "name": "ipython",
    "version": 3
   },
   "file_extension": ".py",
   "mimetype": "text/x-python",
   "name": "python",
   "nbconvert_exporter": "python",
   "pygments_lexer": "ipython3",
   "version": "3.10.6"
  }
 },
 "nbformat": 4,
 "nbformat_minor": 5
}
